{
  "nbformat": 4,
  "nbformat_minor": 0,
  "metadata": {
    "colab": {
      "name": "k-medoids.ipynb",
      "provenance": [],
      "include_colab_link": true
    },
    "kernelspec": {
      "name": "python3",
      "display_name": "Python 3"
    }
  },
  "cells": [
    {
      "cell_type": "markdown",
      "metadata": {
        "id": "view-in-github",
        "colab_type": "text"
      },
      "source": [
        "<a href=\"https://colab.research.google.com/github/ABMARK43/Data-Mining-Assignments/blob/master/k_medoids.ipynb\" target=\"_parent\"><img src=\"https://colab.research.google.com/assets/colab-badge.svg\" alt=\"Open In Colab\"/></a>"
      ]
    },
    {
      "cell_type": "code",
      "metadata": {
        "id": "Y4PM0ldyXtbO",
        "colab_type": "code",
        "colab": {}
      },
      "source": [
        "import pandas as pd\n",
        "import numpy as np \n",
        "from matplotlib import pyplot as plt\n",
        "from sklearn import datasets\n",
        "from scipy.spatial import distance\n",
        "import copy\n"
      ],
      "execution_count": 0,
      "outputs": []
    },
    {
      "cell_type": "code",
      "metadata": {
        "id": "yj-p6ovSYR7x",
        "colab_type": "code",
        "colab": {}
      },
      "source": [
        "iris = datasets.load_iris()"
      ],
      "execution_count": 0,
      "outputs": []
    },
    {
      "cell_type": "code",
      "metadata": {
        "id": "k0FMVx_RUXx5",
        "colab_type": "code",
        "colab": {}
      },
      "source": [
        "points = pd.DataFrame(iris.data[:,(0,1)])"
      ],
      "execution_count": 0,
      "outputs": []
    },
    {
      "cell_type": "code",
      "metadata": {
        "id": "1Mxe86x0Ub86",
        "colab_type": "code",
        "colab": {}
      },
      "source": [
        "x , y = points[0],points[1]"
      ],
      "execution_count": 0,
      "outputs": []
    },
    {
      "cell_type": "code",
      "metadata": {
        "id": "8Lg4WNmtUfGk",
        "colab_type": "code",
        "colab": {}
      },
      "source": [
        "points = list(zip(x,y))"
      ],
      "execution_count": 0,
      "outputs": []
    },
    {
      "cell_type": "code",
      "metadata": {
        "id": "zvS3dpaCUiPY",
        "colab_type": "code",
        "outputId": "4946a3a8-616d-49de-87bf-ff2ce70a729d",
        "colab": {
          "base_uri": "https://localhost:8080/",
          "height": 286
        }
      },
      "source": [
        "plt.scatter(x,y)"
      ],
      "execution_count": 0,
      "outputs": [
        {
          "output_type": "execute_result",
          "data": {
            "text/plain": [
              "<matplotlib.collections.PathCollection at 0x7f5abfb7eb00>"
            ]
          },
          "metadata": {
            "tags": []
          },
          "execution_count": 42
        },
        {
          "output_type": "display_data",
          "data": {
            "image/png": "[encoded data removed]",
            "text/plain": [
              "<Figure size 432x288 with 1 Axes>"
            ]
          },
          "metadata": {
            "tags": []
          }
        }
      ]
    },
    {
      "cell_type": "code",
      "metadata": {
        "id": "Ht-Ep8QzUlTS",
        "colab_type": "code",
        "colab": {}
      },
      "source": [
        "def calculate_distance_matrix(centers,points) :\n",
        "  dist = []\n",
        "  for i in range(len(centers)) :\n",
        "        d = []\n",
        "        for point in points :\n",
        "            d.append(distance.euclidean(point,centers[i]))\n",
        "        dist.append(d)\n",
        "  return dist"
      ],
      "execution_count": 0,
      "outputs": []
    },
    {
      "cell_type": "code",
      "metadata": {
        "id": "KS7D3ed8UuWW",
        "colab_type": "code",
        "colab": {}
      },
      "source": [
        "def initial_seeds(k,points):\n",
        "  seeds =[]\n",
        "  seeds.append(points[np.random.randint(0,150)])\n",
        "  for i in range(k-1):\n",
        "    distances = np.array(calculate_distance_matrix(seeds,points)).T\n",
        "    z = distances.mean(axis = 1)\n",
        "    j = np.argmax(z)\n",
        "    seeds.append(points[j])\n",
        "  return(seeds)\n",
        "    "
      ],
      "execution_count": 0,
      "outputs": []
    },
    {
      "cell_type": "code",
      "metadata": {
        "id": "61LHbsOxVVm1",
        "colab_type": "code",
        "colab": {}
      },
      "source": [
        "def k_medoids(k,points):\n",
        "    medoids = initial_seeds(k,points)  # setting up the initial seeds\n",
        "    print('initial seeds',medoids)\n",
        "    prev = []\n",
        "    z = np.array(calculate_distance_matrix(medoids,points)).T   # finding the distance matrix of all points to medoids\n",
        "    for dist in z:\n",
        "      prev.append(dist[np.argmin(dist)])       # make a list of minimum of the distances to the medoids\n",
        "    for j in range(len(medoids)) :             # this for loop will iterate over all medoids\n",
        "      medoids_new = medoids[:]\n",
        "      for point in points :         \n",
        "        medoids_new[j] = point\n",
        "        if len(set(medoids_new)) < len(medoids_new):  \n",
        "          medoids_new = medoids[:]\n",
        "          continue\n",
        "        z_new = np.array(calculate_distance_matrix(medoids_new,points)).T\n",
        "        new = []\n",
        "        for i in z_new :\n",
        "          new.append(i[np.argmin(i)])\n",
        "        if np.sum(np.array(new) - np.array(prev)) < 0 :\n",
        "          temp = []\n",
        "          medoids = medoids_new[:]\n",
        "          zx = np.array(calculate_distance_matrix(medoids,points)).T   \n",
        "          for i in zx:\n",
        "            temp.append(i[np.argmin(i)])\n",
        "          prev = temp\n",
        "    return medoids"
      ],
      "execution_count": 0,
      "outputs": []
    },
    {
      "cell_type": "code",
      "metadata": {
        "id": "A7S3i7gbbH51",
        "colab_type": "code",
        "colab": {}
      },
      "source": [
        "def make_cluster(medoids,points):\n",
        "    cluster = {}\n",
        "    k = len(medoids)\n",
        "    for j in range(k):            # creating a dictionary of list for k clusters \n",
        "      cluster[j] = [] \n",
        "    z = np.array(calculate_distance_matrix(medoids,points)).T    \n",
        "    for i in range(len(points)) : # assigning points to their respective cluster\n",
        "        m = np.argmin(z[i])\n",
        "        cluster[m].append(np.array(points[i]))\n",
        "    return cluster\n",
        "  "
      ],
      "execution_count": 0,
      "outputs": []
    },
    {
      "cell_type": "code",
      "metadata": {
        "id": "vPUUMOfk4650",
        "colab_type": "code",
        "outputId": "7076e2df-0922-4c09-a123-9b5de223dab1",
        "colab": {
          "base_uri": "https://localhost:8080/",
          "height": 34
        }
      },
      "source": [
        "medoids = k_medoids(5,points)"
      ],
      "execution_count": 0,
      "outputs": [
        {
          "output_type": "stream",
          "text": [
            "initial seeds [(7.2, 3.2), (4.3, 3.0), (7.9, 3.8), (4.5, 2.3), (7.7, 2.6)]\n"
          ],
          "name": "stdout"
        }
      ]
    },
    {
      "cell_type": "code",
      "metadata": {
        "id": "MEc12TN2Z2Zz",
        "colab_type": "code",
        "colab": {}
      },
      "source": [
        "clusters = make_cluster(medoids,points)"
      ],
      "execution_count": 0,
      "outputs": []
    },
    {
      "cell_type": "code",
      "metadata": {
        "id": "5h0SYmCn8KAB",
        "colab_type": "code",
        "colab": {}
      },
      "source": [
        "c1 = pd.DataFrame(clusters[0])\n",
        "c2 = pd.DataFrame(clusters[1])\n",
        "c3 = pd.DataFrame(clusters[2])\n",
        "c4 = pd.DataFrame(clusters[3])\n",
        "c5 = pd.DataFrame(clusters[4])"
      ],
      "execution_count": 0,
      "outputs": []
    },
    {
      "cell_type": "code",
      "metadata": {
        "id": "YXc7F-Kyb_ys",
        "colab_type": "code",
        "outputId": "1260f1da-d6fc-41d7-f625-656bed21d10e",
        "colab": {
          "base_uri": "https://localhost:8080/",
          "height": 286
        }
      },
      "source": [
        "plt.scatter(c1.iloc[:,0],c1.iloc[:,1])\n",
        "plt.scatter(c2.iloc[:,0],c2.iloc[:,1])\n",
        "plt.scatter(c3.iloc[:,0],c3.iloc[:,1])\n",
        "plt.scatter(c4.iloc[:,0],c4.iloc[:,1])\n",
        "plt.scatter(c5.iloc[:,0],c5.iloc[:,1])"
      ],
      "execution_count": 0,
      "outputs": [
        {
          "output_type": "execute_result",
          "data": {
            "text/plain": [
              "<matplotlib.collections.PathCollection at 0x7f5abfae8ef0>"
            ]
          },
          "metadata": {
            "tags": []
          },
          "execution_count": 61
        },
        {
          "output_type": "display_data",
          "data": {
            "image/png": "[encoded data removed]",
            "text/plain": [
              "<Figure size 432x288 with 1 Axes>"
            ]
          },
          "metadata": {
            "tags": []
          }
        }
      ]
    },
    {
      "cell_type": "code",
      "metadata": {
        "id": "5fCN3-eVcEQO",
        "colab_type": "code",
        "colab": {}
      },
      "source": [
        ""
      ],
      "execution_count": 0,
      "outputs": []
    }
  ]
}