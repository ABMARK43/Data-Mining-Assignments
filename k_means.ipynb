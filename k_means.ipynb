{
  "nbformat": 4,
  "nbformat_minor": 0,
  "metadata": {
    "kernelspec": {
      "display_name": "Python 3",
      "language": "python",
      "name": "python3"
    },
    "language_info": {
      "codemirror_mode": {
        "name": "ipython",
        "version": 3
      },
      "file_extension": ".py",
      "mimetype": "text/x-python",
      "name": "python",
      "nbconvert_exporter": "python",
      "pygments_lexer": "ipython3",
      "version": "3.7.3"
    },
    "colab": {
      "name": "k-means.ipynb",
      "provenance": [],
      "include_colab_link": true
    }
  },
  "cells": [
    {
      "cell_type": "markdown",
      "metadata": {
        "id": "view-in-github",
        "colab_type": "text"
      },
      "source": [
        "<a href=\"https://colab.research.google.com/github/ABMARK43/Data-Mining-Assignments/blob/master/k_means.ipynb\" target=\"_parent\"><img src=\"https://colab.research.google.com/assets/colab-badge.svg\" alt=\"Open In Colab\"/></a>"
      ]
    },
    {
      "cell_type": "code",
      "metadata": {
        "id": "N3Qb1uhB_Mz4",
        "colab_type": "code",
        "colab": {}
      },
      "source": [
        "import pandas as pd\n",
        "import numpy as np \n",
        "from matplotlib import pyplot as plt\n",
        "from sklearn import datasets\n",
        "from scipy.spatial import distance"
      ],
      "execution_count": 0,
      "outputs": []
    },
    {
      "cell_type": "code",
      "metadata": {
        "id": "kqDKChBP_Mz-",
        "colab_type": "code",
        "colab": {}
      },
      "source": [
        "iris = datasets.load_iris()\n"
      ],
      "execution_count": 0,
      "outputs": []
    },
    {
      "cell_type": "code",
      "metadata": {
        "id": "4HwL-Lw3_M0D",
        "colab_type": "code",
        "colab": {}
      },
      "source": [
        "points = pd.DataFrame(iris.data[:,(0,1)])"
      ],
      "execution_count": 0,
      "outputs": []
    },
    {
      "cell_type": "code",
      "metadata": {
        "id": "V6znMCOd_M0H",
        "colab_type": "code",
        "colab": {}
      },
      "source": [
        "x , y = points[0],points[1]"
      ],
      "execution_count": 0,
      "outputs": []
    },
    {
      "cell_type": "markdown",
      "metadata": {
        "id": "5fGACttlU_sy",
        "colab_type": "text"
      },
      "source": [
        ""
      ]
    },
    {
      "cell_type": "code",
      "metadata": {
        "id": "bODbn9Vb_M0M",
        "colab_type": "code",
        "colab": {}
      },
      "source": [
        "points = list(zip(x,y))"
      ],
      "execution_count": 0,
      "outputs": []
    },
    {
      "cell_type": "code",
      "metadata": {
        "id": "f0pFOcZc_M0T",
        "colab_type": "code",
        "outputId": "ced97d0a-d27d-4482-8c7a-feba058c5c5d",
        "colab": {
          "base_uri": "https://localhost:8080/",
          "height": 286
        }
      },
      "source": [
        "plt.scatter(x,y)"
      ],
      "execution_count": 0,
      "outputs": [
        {
          "output_type": "execute_result",
          "data": {
            "text/plain": [
              "<matplotlib.collections.PathCollection at 0x7fe1778df710>"
            ]
          },
          "metadata": {
            "tags": []
          },
          "execution_count": 77
        },
        {
          "output_type": "display_data",
          "data": {
            "image/png": "[encoded data removed]",
            "text/plain": [
              "<Figure size 432x288 with 1 Axes>"
            ]
          },
          "metadata": {
            "tags": []
          }
        }
      ]
    },
    {
      "cell_type": "code",
      "metadata": {
        "id": "z4RMTT3JXo2S",
        "colab_type": "code",
        "colab": {}
      },
      "source": [
        "def calculate_distance_matrix(centers,points) :\n",
        "  dist = []\n",
        "  for i in range(len(centers)) :\n",
        "        d = []\n",
        "        for point in points :\n",
        "            d.append(distance.euclidean(point,centers[i]))\n",
        "        dist.append(d)\n",
        "  return dist"
      ],
      "execution_count": 0,
      "outputs": []
    },
    {
      "cell_type": "code",
      "metadata": {
        "id": "7EJIhbF0D0yh",
        "colab_type": "code",
        "colab": {}
      },
      "source": [
        "def claculate_center(cluster,k):\n",
        "  centers = []\n",
        "  for i in range(k) :\n",
        "    a = np.array(cluster[i]).T\n",
        "    x=a.mean(axis=1)\n",
        "    centers.append(x)\n",
        "  return(centers)"
      ],
      "execution_count": 0,
      "outputs": []
    },
    {
      "cell_type": "code",
      "metadata": {
        "id": "b-ezXJUP_M0a",
        "colab_type": "code",
        "colab": {}
      },
      "source": [
        "def k_means(points,k,centers):\n",
        "    cluster = {}\n",
        "    for j in range(k):            # creating a dictionary of list for k clusters \n",
        "      cluster[j] = [] \n",
        "    z = np.array(calculate_distance_matrix(centers,points)).T    \n",
        "    for i in range(len(points)) : # assigning points to their respective cluster\n",
        "        m = np.argmin(z[i])\n",
        "        cluster[m].append(np.array(points[i])) \n",
        "    new_centers = claculate_center(cluster,k)\n",
        "    if np.sum(np.array(new_centers)-np.array(centers)) == 0 :\n",
        "        return cluster\n",
        "    else:\n",
        "        cluster = k_means(points,k,new_centers)\n",
        "        return cluster   "
      ],
      "execution_count": 0,
      "outputs": []
    },
    {
      "cell_type": "code",
      "metadata": {
        "id": "voNBESnV_M0i",
        "colab_type": "code",
        "colab": {}
      },
      "source": [
        "def initial_seeds(k,points):\n",
        "  seeds =[]\n",
        "  seeds.append(points[np.random.randint(0,len(points))])\n",
        "  for i in range(k-1):\n",
        "    distances = np.array(calculate_distance_matrix(seeds,points)).T\n",
        "    z = distances.mean(axis = 1)\n",
        "    j = np.argmax(z)\n",
        "    seeds.append(points[j])\n",
        "  return(seeds)\n",
        "    "
      ],
      "execution_count": 0,
      "outputs": []
    },
    {
      "cell_type": "code",
      "metadata": {
        "id": "VbaFGMb__M0y",
        "colab_type": "code",
        "colab": {}
      },
      "source": [
        "seeds = initial_seeds(5,points)"
      ],
      "execution_count": 0,
      "outputs": []
    },
    {
      "cell_type": "code",
      "metadata": {
        "id": "MOHKQvxOePt2",
        "colab_type": "code",
        "colab": {}
      },
      "source": [
        "clusters = k_means(points,5,seeds)"
      ],
      "execution_count": 0,
      "outputs": []
    },
    {
      "cell_type": "code",
      "metadata": {
        "id": "FLKXweQ3fsVU",
        "colab_type": "code",
        "colab": {}
      },
      "source": [
        "c1 = pd.DataFrame(clusters[0])\n",
        "c2 = pd.DataFrame(clusters[1])\n",
        "c3 = pd.DataFrame(clusters[2])\n",
        "c4 = pd.DataFrame(clusters[3])\n",
        "c5 = pd.DataFrame(clusters[4])"
      ],
      "execution_count": 0,
      "outputs": []
    },
    {
      "cell_type": "code",
      "metadata": {
        "id": "h_D5J-fiSQRW",
        "colab_type": "code",
        "outputId": "cdfec089-3950-40bd-df9e-9bbc6d5191bb",
        "colab": {
          "base_uri": "https://localhost:8080/",
          "height": 286
        }
      },
      "source": [
        "plt.scatter(c1.iloc[:,0],c1.iloc[:,1])\n",
        "plt.scatter(c2.iloc[:,0],c2.iloc[:,1])\n",
        "plt.scatter(c3.iloc[:,0],c3.iloc[:,1])\n",
        "plt.scatter(c4.iloc[:,0],c4.iloc[:,1])\n",
        "plt.scatter(c5.iloc[:,0],c5.iloc[:,1])"
      ],
      "execution_count": 0,
      "outputs": [
        {
          "output_type": "execute_result",
          "data": {
            "text/plain": [
              "<matplotlib.collections.PathCollection at 0x7fe1777b9ac8>"
            ]
          },
          "metadata": {
            "tags": []
          },
          "execution_count": 90
        },
        {
          "output_type": "display_data",
          "data": {
            "image/png": "[encoded data removed]",
            "text/plain": [
              "<Figure size 432x288 with 1 Axes>"
            ]
          },
          "metadata": {
            "tags": []
          }
        }
      ]
    },
    {
      "cell_type": "code",
      "metadata": {
        "id": "TWOxYeqjUL78",
        "colab_type": "code",
        "colab": {}
      },
      "source": [
        ""
      ],
      "execution_count": 0,
      "outputs": []
    }
  ]
}