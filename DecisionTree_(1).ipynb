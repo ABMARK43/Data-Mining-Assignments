{
  "nbformat": 4,
  "nbformat_minor": 0,
  "metadata": {
    "kernelspec": {
      "display_name": "Python 3",
      "language": "python",
      "name": "python3"
    },
    "language_info": {
      "codemirror_mode": {
        "name": "ipython",
        "version": 3
      },
      "file_extension": ".py",
      "mimetype": "text/x-python",
      "name": "python",
      "nbconvert_exporter": "python",
      "pygments_lexer": "ipython3",
      "version": "3.7.3"
    },
    "colab": {
      "name": "DecisionTree (1).ipynb",
      "provenance": [],
      "include_colab_link": true
    }
  },
  "cells": [
    {
      "cell_type": "markdown",
      "metadata": {
        "id": "view-in-github",
        "colab_type": "text"
      },
      "source": [
        "<a href=\"https://colab.research.google.com/github/ABMARK43/Data-Mining-Assignments/blob/master/DecisionTree_(1).ipynb\" target=\"_parent\"><img src=\"https://colab.research.google.com/assets/colab-badge.svg\" alt=\"Open In Colab\"/></a>"
      ]
    },
    {
      "cell_type": "code",
      "metadata": {
        "id": "7fUh_6p0BHvc",
        "colab_type": "code",
        "outputId": "21671a72-da18-4940-e520-c68925e49ff6",
        "colab": {}
      },
      "source": [
        "import math\n",
        "import pandas as pd \n",
        "import numpy as np\n",
        "data=pd.read_csv(\"/home/abhishek/Downloads/weather.csv\")\n",
        "train=data.drop('day',axis=1)\n",
        "print(train)"
      ],
      "execution_count": 0,
      "outputs": [
        {
          "output_type": "stream",
          "text": [
            "     outlook  temp humidity    wind play\n",
            "0      Sunny   Hot     High    Weak   No\n",
            "1      Sunny   Hot     High  Strong   No\n",
            "2   Overcast   Hot     High    Weak  Yes\n",
            "3       Rain  Mild     High    Weak  Yes\n",
            "4       Rain  Cool   Normal    Weak  Yes\n",
            "5       Rain  Cool   Normal  Strong   No\n",
            "6   Overcast  Cool   Normal  Strong  Yes\n",
            "7      Sunny  Mild     High    Weak   No\n",
            "8      Sunny  Cool   Normal    Weak  Yes\n",
            "9       Rain  Mild   Normal    Weak  Yes\n",
            "10     Sunny  Mild   Normal  Strong  Yes\n",
            "11  Overcast  Mild     High  Strong  Yes\n",
            "12  Overcast   Hot   Normal    Weak  Yes\n",
            "13      Rain  Mild     High  Strong   No\n"
          ],
          "name": "stdout"
        }
      ]
    },
    {
      "cell_type": "code",
      "metadata": {
        "id": "PiNalAHoBHvj",
        "colab_type": "code",
        "colab": {}
      },
      "source": [
        "def gini(data,index,gini_train,rows,class_col,class_labels):  # function to calculate Gini Gain \n",
        "    label=np.unique(data[index])\n",
        "    ginni_index=[]\n",
        "    label_fraction=[]\n",
        "    g=[]\n",
        "    w=[]\n",
        "    freq=pd.crosstab(data[index],data[class_col])   # It gives the frequency of each class for every unique label \n",
        "    for k in label:\n",
        "        count=[]\n",
        "        p=[]\n",
        "        gini=1\n",
        "        for i in class_labels:\n",
        "            count.append(freq[i][k])    \n",
        "        for i in range(len(count)):\n",
        "            p.append(count[i]/np.sum(count))                 \n",
        "            gini=gini-(p[i]**2)\n",
        "        g.append(gini)\n",
        "        w.append(np.sum(count)/rows)\n",
        "    m=np.sum(np.multiply(g,w))\n",
        "    gain=gini_train-m\n",
        "    return(gain)\n"
      ],
      "execution_count": 0,
      "outputs": []
    },
    {
      "cell_type": "code",
      "metadata": {
        "id": "6EzJapcGBHvn",
        "colab_type": "code",
        "colab": {}
      },
      "source": [
        "def decision_tree(train,tree,class_col):\n",
        "    rows=train.shape[0]\n",
        "    cols=train.columns\n",
        "    class_labels=np.unique(train[class_col])\n",
        "    p_class=[]\n",
        "    gini_train=1\n",
        "    entropy=0\n",
        "    for i in range(len(class_labels)) :\n",
        "        p_class.append((np.count_nonzero(train[class_col]==class_col[i]))/rows)\n",
        "        gini_train=gini_train-(p_class[i]**2)\n",
        "    h=[]\n",
        "    for i in range(0,train.shape[1]-1):\n",
        "        index=cols[i]\n",
        "        h.append(gini(train,index,gini_train,rows,class_col,class_labels))  \n",
        "    maxgain=cols[np.argmax(h)]\n",
        "    tree.append(maxgain)\n",
        "    nlabel=np.unique(train[maxgain])\n",
        "    for j in nlabel:\n",
        "        b=train[train[maxgain]==j]\n",
        "        tree.append(j)\n",
        "        leaf=np.unique(b[class_col])\n",
        "        if(len(leaf)>1):\n",
        "            b=b.drop(maxgain,axis=1)\n",
        "            decision_tree(b,tree,class_col)\n",
        "        else:\n",
        "            tree.append(leaf[0])\n",
        "    return(tree)"
      ],
      "execution_count": 0,
      "outputs": []
    },
    {
      "cell_type": "code",
      "metadata": {
        "id": "OUuZDFV-BHvr",
        "colab_type": "code",
        "outputId": "bb8903f6-5e65-4fbb-a905-270f6e64ec62",
        "colab": {}
      },
      "source": [
        "tree=[]\n",
        "decision_tree(train,tree,'play')"
      ],
      "execution_count": 0,
      "outputs": [
        {
          "output_type": "execute_result",
          "data": {
            "text/plain": [
              "['outlook',\n",
              " 'Overcast',\n",
              " 'Yes',\n",
              " 'Rain',\n",
              " 'wind',\n",
              " 'Strong',\n",
              " 'No',\n",
              " 'Weak',\n",
              " 'Yes',\n",
              " 'Sunny',\n",
              " 'humidity',\n",
              " 'High',\n",
              " 'No',\n",
              " 'Normal',\n",
              " 'Yes']"
            ]
          },
          "metadata": {
            "tags": []
          },
          "execution_count": 156
        }
      ]
    },
    {
      "cell_type": "code",
      "metadata": {
        "id": "vyOwEkXJBHvx",
        "colab_type": "code",
        "colab": {}
      },
      "source": [
        ""
      ],
      "execution_count": 0,
      "outputs": []
    }
  ]
}