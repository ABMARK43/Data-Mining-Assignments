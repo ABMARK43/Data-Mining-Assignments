{
  "nbformat": 4,
  "nbformat_minor": 0,
  "metadata": {
    "kernelspec": {
      "display_name": "Python 3",
      "language": "python",
      "name": "python3"
    },
    "language_info": {
      "codemirror_mode": {
        "name": "ipython",
        "version": 3
      },
      "file_extension": ".py",
      "mimetype": "text/x-python",
      "name": "python",
      "nbconvert_exporter": "python",
      "pygments_lexer": "ipython3",
      "version": "3.7.3"
    },
    "colab": {
      "name": "apriori.ipynb",
      "provenance": [],
      "include_colab_link": true
    }
  },
  "cells": [
    {
      "cell_type": "markdown",
      "metadata": {
        "id": "view-in-github",
        "colab_type": "text"
      },
      "source": [
        "<a href=\"https://colab.research.google.com/github/ABMARK43/Data-Mining-Assignments/blob/master/apriori.ipynb\" target=\"_parent\"><img src=\"https://colab.research.google.com/assets/colab-badge.svg\" alt=\"Open In Colab\"/></a>"
      ]
    },
    {
      "cell_type": "code",
      "metadata": {
        "id": "X7tpZnYZduBO",
        "colab_type": "code",
        "colab": {}
      },
      "source": [
        "import pandas as pd \n",
        "import numpy as np \n",
        "import itertools as itr \n"
      ],
      "execution_count": 0,
      "outputs": []
    },
    {
      "cell_type": "code",
      "metadata": {
        "id": "2hs01O9IduBT",
        "colab_type": "code",
        "colab": {}
      },
      "source": [
        "data = pd.read_csv('/home/abhishek/Downloads/GroceryStoreDataSet.csv',sep='\\n')"
      ],
      "execution_count": 0,
      "outputs": []
    },
    {
      "cell_type": "code",
      "metadata": {
        "scrolled": true,
        "id": "T3bVIfz6duBY",
        "colab_type": "code",
        "colab": {},
        "outputId": "2edde3f5-0037-44ec-b9c3-98f0b599ce82"
      },
      "source": [
        "data"
      ],
      "execution_count": 0,
      "outputs": [
        {
          "output_type": "execute_result",
          "data": {
            "text/html": [
              "<div>\n",
              "<style scoped>\n",
              "    .dataframe tbody tr th:only-of-type {\n",
              "        vertical-align: middle;\n",
              "    }\n",
              "\n",
              "    .dataframe tbody tr th {\n",
              "        vertical-align: top;\n",
              "    }\n",
              "\n",
              "    .dataframe thead th {\n",
              "        text-align: right;\n",
              "    }\n",
              "</style>\n",
              "<table border=\"1\" class=\"dataframe\">\n",
              "  <thead>\n",
              "    <tr style=\"text-align: right;\">\n",
              "      <th></th>\n",
              "      <th>TRANSACTIONS</th>\n",
              "    </tr>\n",
              "  </thead>\n",
              "  <tbody>\n",
              "    <tr>\n",
              "      <th>0</th>\n",
              "      <td>MILK,BREAD,BISCUIT</td>\n",
              "    </tr>\n",
              "    <tr>\n",
              "      <th>1</th>\n",
              "      <td>BREAD,MILK,BISCUIT,CORNFLAKES</td>\n",
              "    </tr>\n",
              "    <tr>\n",
              "      <th>2</th>\n",
              "      <td>BREAD,TEA,BOURNVITA</td>\n",
              "    </tr>\n",
              "    <tr>\n",
              "      <th>3</th>\n",
              "      <td>JAM,MAGGI,BREAD,MILK</td>\n",
              "    </tr>\n",
              "    <tr>\n",
              "      <th>4</th>\n",
              "      <td>MAGGI,TEA,BISCUIT</td>\n",
              "    </tr>\n",
              "    <tr>\n",
              "      <th>5</th>\n",
              "      <td>BREAD,TEA,BOURNVITA</td>\n",
              "    </tr>\n",
              "    <tr>\n",
              "      <th>6</th>\n",
              "      <td>MAGGI,TEA,CORNFLAKES</td>\n",
              "    </tr>\n",
              "    <tr>\n",
              "      <th>7</th>\n",
              "      <td>MAGGI,BREAD,TEA,BISCUIT</td>\n",
              "    </tr>\n",
              "    <tr>\n",
              "      <th>8</th>\n",
              "      <td>JAM,MAGGI,BREAD,TEA</td>\n",
              "    </tr>\n",
              "    <tr>\n",
              "      <th>9</th>\n",
              "      <td>BREAD,MILK</td>\n",
              "    </tr>\n",
              "    <tr>\n",
              "      <th>10</th>\n",
              "      <td>COFFEE,COKE,BISCUIT,CORNFLAKES</td>\n",
              "    </tr>\n",
              "    <tr>\n",
              "      <th>11</th>\n",
              "      <td>COFFEE,COKE,BISCUIT,CORNFLAKES</td>\n",
              "    </tr>\n",
              "    <tr>\n",
              "      <th>12</th>\n",
              "      <td>COFFEE,SUGAR,BOURNVITA</td>\n",
              "    </tr>\n",
              "    <tr>\n",
              "      <th>13</th>\n",
              "      <td>BREAD,COFFEE,COKE</td>\n",
              "    </tr>\n",
              "    <tr>\n",
              "      <th>14</th>\n",
              "      <td>BREAD,SUGAR,BISCUIT</td>\n",
              "    </tr>\n",
              "    <tr>\n",
              "      <th>15</th>\n",
              "      <td>COFFEE,SUGAR,CORNFLAKES</td>\n",
              "    </tr>\n",
              "    <tr>\n",
              "      <th>16</th>\n",
              "      <td>BREAD,SUGAR,BOURNVITA</td>\n",
              "    </tr>\n",
              "    <tr>\n",
              "      <th>17</th>\n",
              "      <td>BREAD,COFFEE,SUGAR</td>\n",
              "    </tr>\n",
              "    <tr>\n",
              "      <th>18</th>\n",
              "      <td>BREAD,COFFEE,SUGAR</td>\n",
              "    </tr>\n",
              "    <tr>\n",
              "      <th>19</th>\n",
              "      <td>TEA,MILK,COFFEE,CORNFLAKES</td>\n",
              "    </tr>\n",
              "  </tbody>\n",
              "</table>\n",
              "</div>"
            ],
            "text/plain": [
              "                      TRANSACTIONS\n",
              "0               MILK,BREAD,BISCUIT\n",
              "1    BREAD,MILK,BISCUIT,CORNFLAKES\n",
              "2              BREAD,TEA,BOURNVITA\n",
              "3             JAM,MAGGI,BREAD,MILK\n",
              "4                MAGGI,TEA,BISCUIT\n",
              "5              BREAD,TEA,BOURNVITA\n",
              "6             MAGGI,TEA,CORNFLAKES\n",
              "7          MAGGI,BREAD,TEA,BISCUIT\n",
              "8              JAM,MAGGI,BREAD,TEA\n",
              "9                       BREAD,MILK\n",
              "10  COFFEE,COKE,BISCUIT,CORNFLAKES\n",
              "11  COFFEE,COKE,BISCUIT,CORNFLAKES\n",
              "12          COFFEE,SUGAR,BOURNVITA\n",
              "13               BREAD,COFFEE,COKE\n",
              "14             BREAD,SUGAR,BISCUIT\n",
              "15         COFFEE,SUGAR,CORNFLAKES\n",
              "16           BREAD,SUGAR,BOURNVITA\n",
              "17              BREAD,COFFEE,SUGAR\n",
              "18              BREAD,COFFEE,SUGAR\n",
              "19      TEA,MILK,COFFEE,CORNFLAKES"
            ]
          },
          "metadata": {
            "tags": []
          },
          "execution_count": 4
        }
      ]
    },
    {
      "cell_type": "code",
      "metadata": {
        "id": "LwRodU_cduBd",
        "colab_type": "code",
        "colab": {}
      },
      "source": [
        "trans = [i.split(',') for i in data['TRANSACTIONS']]"
      ],
      "execution_count": 0,
      "outputs": []
    },
    {
      "cell_type": "code",
      "metadata": {
        "id": "XG1g86s2duBh",
        "colab_type": "code",
        "colab": {},
        "outputId": "7af82f0b-05bf-4054-ad9b-847c9ee41241"
      },
      "source": [
        "trans"
      ],
      "execution_count": 0,
      "outputs": [
        {
          "output_type": "execute_result",
          "data": {
            "text/plain": [
              "[['MILK', 'BREAD', 'BISCUIT'],\n",
              " ['BREAD', 'MILK', 'BISCUIT', 'CORNFLAKES'],\n",
              " ['BREAD', 'TEA', 'BOURNVITA'],\n",
              " ['JAM', 'MAGGI', 'BREAD', 'MILK'],\n",
              " ['MAGGI', 'TEA', 'BISCUIT'],\n",
              " ['BREAD', 'TEA', 'BOURNVITA'],\n",
              " ['MAGGI', 'TEA', 'CORNFLAKES'],\n",
              " ['MAGGI', 'BREAD', 'TEA', 'BISCUIT'],\n",
              " ['JAM', 'MAGGI', 'BREAD', 'TEA'],\n",
              " ['BREAD', 'MILK'],\n",
              " ['COFFEE', 'COKE', 'BISCUIT', 'CORNFLAKES'],\n",
              " ['COFFEE', 'COKE', 'BISCUIT', 'CORNFLAKES'],\n",
              " ['COFFEE', 'SUGAR', 'BOURNVITA'],\n",
              " ['BREAD', 'COFFEE', 'COKE'],\n",
              " ['BREAD', 'SUGAR', 'BISCUIT'],\n",
              " ['COFFEE', 'SUGAR', 'CORNFLAKES'],\n",
              " ['BREAD', 'SUGAR', 'BOURNVITA'],\n",
              " ['BREAD', 'COFFEE', 'SUGAR'],\n",
              " ['BREAD', 'COFFEE', 'SUGAR'],\n",
              " ['TEA', 'MILK', 'COFFEE', 'CORNFLAKES']]"
            ]
          },
          "metadata": {
            "tags": []
          },
          "execution_count": 6
        }
      ]
    },
    {
      "cell_type": "code",
      "metadata": {
        "id": "4DuuAi5jduBl",
        "colab_type": "code",
        "colab": {}
      },
      "source": [
        "items = list(set(itr.chain(*trans)))"
      ],
      "execution_count": 0,
      "outputs": []
    },
    {
      "cell_type": "code",
      "metadata": {
        "id": "9vH3pTBQduBp",
        "colab_type": "code",
        "colab": {},
        "outputId": "249b9255-2df4-42e5-d437-9a50d91a9ccd"
      },
      "source": [
        "items"
      ],
      "execution_count": 0,
      "outputs": [
        {
          "output_type": "execute_result",
          "data": {
            "text/plain": [
              "['BISCUIT',\n",
              " 'MAGGI',\n",
              " 'SUGAR',\n",
              " 'BOURNVITA',\n",
              " 'COKE',\n",
              " 'MILK',\n",
              " 'BREAD',\n",
              " 'CORNFLAKES',\n",
              " 'TEA',\n",
              " 'COFFEE',\n",
              " 'JAM']"
            ]
          },
          "metadata": {
            "tags": []
          },
          "execution_count": 8
        }
      ]
    },
    {
      "cell_type": "code",
      "metadata": {
        "id": "ip4EKqonduBu",
        "colab_type": "code",
        "colab": {}
      },
      "source": [
        "def subset(trans,n):\n",
        "    a=[]\n",
        "    for i in trans:\n",
        "        for j in itr.combinations(i,n):\n",
        "            a.append(frozenset(j))\n",
        "    return(a)        "
      ],
      "execution_count": 0,
      "outputs": []
    },
    {
      "cell_type": "code",
      "metadata": {
        "id": "AM5GiPdgduBy",
        "colab_type": "code",
        "colab": {}
      },
      "source": [
        "def Candidates(items,n,L):\n",
        "    c_list=[]\n",
        "    a=[i for i in itr.combinations(items,n)]\n",
        "    for j in a:\n",
        "        flag=True\n",
        "        for i in itr.combinations(j,n-1):\n",
        "            m=i\n",
        "            if(n==2):\n",
        "                m=i[0]\n",
        "            if m not in L:\n",
        "                flag=False\n",
        "                break\n",
        "        if flag==True:\n",
        "            c_list.append(j)      \n",
        "    return(c_list)"
      ],
      "execution_count": 0,
      "outputs": []
    },
    {
      "cell_type": "code",
      "metadata": {
        "id": "4-KXg1I2duB2",
        "colab_type": "code",
        "colab": {}
      },
      "source": [
        "def frequent_items(L,min_sup,trans,n):\n",
        "    c_list=[]\n",
        "    subsets = subset(trans,n)\n",
        "    for item in L:\n",
        "        if(n==1):\n",
        "            element=frozenset({item})\n",
        "        else:\n",
        "            element=frozenset(item)\n",
        "        if(subsets.count(element)>=min_sup):\n",
        "            c_list.append(item)\n",
        "    return(c_list)"
      ],
      "execution_count": 0,
      "outputs": []
    },
    {
      "cell_type": "code",
      "metadata": {
        "id": "pER4vsXRduB7",
        "colab_type": "code",
        "colab": {}
      },
      "source": [
        "def Apriori(items,min_sup,trans,i):\n",
        "            L=[]\n",
        "            tmp=frequent_items(items,min_sup,trans,i)\n",
        "            L.append(tmp)\n",
        "            C=Candidates(items,2,L[0])\n",
        "            i=2\n",
        "            while (len(L[i-2])>0):\n",
        "                tmp=frequent_items(C,min_sup,trans,i)\n",
        "                L.append(tmp)\n",
        "                C=Candidates(items,i+1,L[i-1])\n",
        "                i+=1\n",
        "            return(L)"
      ],
      "execution_count": 0,
      "outputs": []
    },
    {
      "cell_type": "code",
      "metadata": {
        "id": "gWsnkpX2duCA",
        "colab_type": "code",
        "colab": {},
        "outputId": "2d133a4c-59bd-4c90-9aa2-ff3431453632"
      },
      "source": [
        "Apriori(items,10,trans,1)"
      ],
      "execution_count": 0,
      "outputs": [
        {
          "output_type": "execute_result",
          "data": {
            "text/plain": [
              "[['BREAD'], []]"
            ]
          },
          "metadata": {
            "tags": []
          },
          "execution_count": 71
        }
      ]
    },
    {
      "cell_type": "code",
      "metadata": {
        "id": "BsVlsFBnduCF",
        "colab_type": "code",
        "colab": {},
        "outputId": "54f36357-ce1a-4ece-a68d-34cbc9b976da"
      },
      "source": [
        "Apriori(items,8,trans,1)"
      ],
      "execution_count": 0,
      "outputs": [
        {
          "output_type": "execute_result",
          "data": {
            "text/plain": [
              "[['BREAD', 'COFFEE'], []]"
            ]
          },
          "metadata": {
            "tags": []
          },
          "execution_count": 72
        }
      ]
    },
    {
      "cell_type": "code",
      "metadata": {
        "id": "BTgPY18xduCJ",
        "colab_type": "code",
        "colab": {},
        "outputId": "a47325cc-7206-452e-b276-b9563a4868b5"
      },
      "source": [
        "Apriori(items,3,trans,1)"
      ],
      "execution_count": 0,
      "outputs": [
        {
          "output_type": "execute_result",
          "data": {
            "text/plain": [
              "[['BISCUIT',\n",
              "  'MAGGI',\n",
              "  'SUGAR',\n",
              "  'BOURNVITA',\n",
              "  'COKE',\n",
              "  'MILK',\n",
              "  'BREAD',\n",
              "  'CORNFLAKES',\n",
              "  'TEA',\n",
              "  'COFFEE'],\n",
              " [('BISCUIT', 'BREAD'),\n",
              "  ('BISCUIT', 'CORNFLAKES'),\n",
              "  ('MAGGI', 'BREAD'),\n",
              "  ('MAGGI', 'TEA'),\n",
              "  ('SUGAR', 'BREAD'),\n",
              "  ('SUGAR', 'COFFEE'),\n",
              "  ('BOURNVITA', 'BREAD'),\n",
              "  ('COKE', 'COFFEE'),\n",
              "  ('MILK', 'BREAD'),\n",
              "  ('BREAD', 'TEA'),\n",
              "  ('BREAD', 'COFFEE'),\n",
              "  ('CORNFLAKES', 'COFFEE')],\n",
              " []]"
            ]
          },
          "metadata": {
            "tags": []
          },
          "execution_count": 73
        }
      ]
    },
    {
      "cell_type": "code",
      "metadata": {
        "id": "_CfIpsRCduCQ",
        "colab_type": "code",
        "colab": {},
        "outputId": "efa921bd-a892-4430-b7e1-41bde28106b8"
      },
      "source": [
        "Apriori(items,2,trans,1)"
      ],
      "execution_count": 0,
      "outputs": [
        {
          "output_type": "execute_result",
          "data": {
            "text/plain": [
              "[['BISCUIT',\n",
              "  'MAGGI',\n",
              "  'SUGAR',\n",
              "  'BOURNVITA',\n",
              "  'COKE',\n",
              "  'MILK',\n",
              "  'BREAD',\n",
              "  'CORNFLAKES',\n",
              "  'TEA',\n",
              "  'COFFEE',\n",
              "  'JAM'],\n",
              " [('BISCUIT', 'MAGGI'),\n",
              "  ('BISCUIT', 'COKE'),\n",
              "  ('BISCUIT', 'MILK'),\n",
              "  ('BISCUIT', 'BREAD'),\n",
              "  ('BISCUIT', 'CORNFLAKES'),\n",
              "  ('BISCUIT', 'TEA'),\n",
              "  ('BISCUIT', 'COFFEE'),\n",
              "  ('MAGGI', 'BREAD'),\n",
              "  ('MAGGI', 'TEA'),\n",
              "  ('MAGGI', 'JAM'),\n",
              "  ('SUGAR', 'BOURNVITA'),\n",
              "  ('SUGAR', 'BREAD'),\n",
              "  ('SUGAR', 'COFFEE'),\n",
              "  ('BOURNVITA', 'BREAD'),\n",
              "  ('BOURNVITA', 'TEA'),\n",
              "  ('COKE', 'CORNFLAKES'),\n",
              "  ('COKE', 'COFFEE'),\n",
              "  ('MILK', 'BREAD'),\n",
              "  ('MILK', 'CORNFLAKES'),\n",
              "  ('BREAD', 'TEA'),\n",
              "  ('BREAD', 'COFFEE'),\n",
              "  ('BREAD', 'JAM'),\n",
              "  ('CORNFLAKES', 'TEA'),\n",
              "  ('CORNFLAKES', 'COFFEE')],\n",
              " [('BISCUIT', 'MAGGI', 'TEA'),\n",
              "  ('BISCUIT', 'COKE', 'CORNFLAKES'),\n",
              "  ('BISCUIT', 'COKE', 'COFFEE'),\n",
              "  ('BISCUIT', 'MILK', 'BREAD'),\n",
              "  ('BISCUIT', 'CORNFLAKES', 'COFFEE'),\n",
              "  ('MAGGI', 'BREAD', 'TEA'),\n",
              "  ('MAGGI', 'BREAD', 'JAM'),\n",
              "  ('SUGAR', 'BREAD', 'COFFEE'),\n",
              "  ('BOURNVITA', 'BREAD', 'TEA'),\n",
              "  ('COKE', 'CORNFLAKES', 'COFFEE')],\n",
              " [('BISCUIT', 'COKE', 'CORNFLAKES', 'COFFEE')],\n",
              " []]"
            ]
          },
          "metadata": {
            "tags": []
          },
          "execution_count": 74
        }
      ]
    },
    {
      "cell_type": "code",
      "metadata": {
        "id": "pZPgGQIuduCU",
        "colab_type": "code",
        "colab": {}
      },
      "source": [
        ""
      ],
      "execution_count": 0,
      "outputs": []
    },
    {
      "cell_type": "code",
      "metadata": {
        "id": "4p6RXx7yduCZ",
        "colab_type": "code",
        "colab": {}
      },
      "source": [
        ""
      ],
      "execution_count": 0,
      "outputs": []
    }
  ]
}